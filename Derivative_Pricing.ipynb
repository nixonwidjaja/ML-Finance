{
  "nbformat": 4,
  "nbformat_minor": 0,
  "metadata": {
    "colab": {
      "name": "Derivative_Pricing.ipynb",
      "provenance": [],
      "collapsed_sections": []
    },
    "kernelspec": {
      "name": "python3",
      "display_name": "Python 3"
    },
    "language_info": {
      "name": "python"
    }
  },
  "cells": [
    {
      "cell_type": "markdown",
      "source": [
        "Import Libraries"
      ],
      "metadata": {
        "id": "MRWDeqvO3dpW"
      }
    },
    {
      "cell_type": "code",
      "execution_count": 10,
      "metadata": {
        "id": "fukrk-lk19Yr"
      },
      "outputs": [],
      "source": [
        "#Normal distribution functions\n",
        "from scipy.stats import norm\n",
        "\n",
        "\n",
        "# Load libraries\n",
        "import numpy as np\n",
        "import pandas as pd\n",
        "import pandas_datareader.data as web\n",
        "from matplotlib import pyplot\n",
        "from pandas.plotting import scatter_matrix\n",
        "import seaborn as sns\n",
        "from sklearn.preprocessing import StandardScaler\n",
        "\n",
        "from sklearn.model_selection import train_test_split\n",
        "from sklearn.model_selection import KFold\n",
        "from sklearn.model_selection import cross_val_score\n",
        "from sklearn.model_selection import GridSearchCV\n",
        "\n",
        "from sklearn.linear_model import LinearRegression\n",
        "from sklearn.linear_model import Lasso\n",
        "from sklearn.linear_model import ElasticNet\n",
        "from sklearn.tree import DecisionTreeRegressor\n",
        "from sklearn.neighbors import KNeighborsRegressor\n",
        "from sklearn.svm import SVR\n",
        "from sklearn.ensemble import RandomForestRegressor\n",
        "from sklearn.ensemble import GradientBoostingRegressor\n",
        "from sklearn.ensemble import ExtraTreesRegressor\n",
        "from sklearn.ensemble import AdaBoostRegressor\n",
        "from sklearn.neural_network import MLPRegressor\n",
        "\n",
        "#Libraries for Deep Learning Models\n",
        "from keras.models import Sequential\n",
        "from keras.layers import Dense\n",
        "from tensorflow.keras.optimizers import SGD\n",
        "from keras.layers import LSTM\n",
        "from keras.wrappers.scikit_learn import KerasRegressor\n",
        "\n",
        "#Libraries for Statistical Models\n",
        "import statsmodels.api as sm\n",
        "\n",
        "#Libraries for Saving the Model\n",
        "from pickle import dump\n",
        "from pickle import load\n",
        "\n",
        "# Time series Models\n",
        "from statsmodels.tsa.arima_model import ARIMA\n",
        "#from statsmodels.tsa.statespace.sarimax import SARIMAX\n",
        "\n",
        "# Error Metrics\n",
        "from sklearn.metrics import mean_squared_error\n",
        "\n",
        "# Feature Selection\n",
        "from sklearn.feature_selection import SelectKBest\n",
        "from sklearn.feature_selection import chi2, f_regression\n",
        "\n",
        "\n",
        "#Plotting \n",
        "from pandas.plotting import scatter_matrix\n",
        "from statsmodels.graphics.tsaplots import plot_acf\n",
        "\n",
        "#Diable the warnings\n",
        "import warnings\n",
        "warnings.filterwarnings('ignore')"
      ]
    },
    {
      "cell_type": "markdown",
      "source": [
        "Black Scholes Formula"
      ],
      "metadata": {
        "id": "Ee1QH_QE3c_J"
      }
    },
    {
      "cell_type": "code",
      "source": [
        "true_alpha = 0.1\n",
        "true_beta = 0.1\n",
        "true_sigma0 = 0.2\n",
        "interest = 0.05\n",
        "\n",
        "def vol(moneyness, time):\n",
        "    return true_sigma0 + true_alpha * time + true_beta * np.square(moneyness - 1)\n",
        "\n",
        "def call_option_price(moneyness, time, option_vol):\n",
        "    d1=(np.log(1/moneyness)+(interest + np.square(option_vol))*time)/(option_vol*np.sqrt(time))\n",
        "    d2=(np.log(1/moneyness)+(interest - np.square(option_vol))*time)/(option_vol*np.sqrt(time))\n",
        "    N_d1 = norm.cdf(d1)\n",
        "    N_d2 = norm.cdf(d2)\n",
        "    \n",
        "    return N_d1 - moneyness * np.exp(- interest * time) * N_d2"
      ],
      "metadata": {
        "id": "h9QpZDsa3mwm"
      },
      "execution_count": 11,
      "outputs": []
    },
    {
      "cell_type": "markdown",
      "source": [
        "Generating Data"
      ],
      "metadata": {
        "id": "GQnBSyv94n6x"
      }
    },
    {
      "cell_type": "code",
      "source": [
        "N = 10000\n",
        "\n",
        "moneys = 1+0.25*np.random.randn(N)\n",
        "times = np.random.random(N)\n",
        "volatility = np.array([vol(k,t) for k,t in zip(moneys, times)])\n",
        "prices = np.array([call_option_price(k,t,sig) for k,t,sig in zip(moneys, times, volatility)])\n",
        "print('moneys', moneys)\n",
        "print('times', times)\n",
        "print('volatility', volatility)\n",
        "print('prices', prices)"
      ],
      "metadata": {
        "colab": {
          "base_uri": "https://localhost:8080/"
        },
        "id": "xXcHFEd74o2u",
        "outputId": "1d715342-5940-49d8-8c31-d1916084f0b3"
      },
      "execution_count": 16,
      "outputs": [
        {
          "output_type": "stream",
          "name": "stdout",
          "text": [
            "moneys [0.76782109 0.87395608 1.10291291 ... 0.77338248 0.91823437 0.40281619]\n",
            "times [0.35004584 0.42985217 0.92240233 ... 0.83474306 0.61971991 0.66576014]\n",
            "volatility [0.24039529 0.24457392 0.29329934 ... 0.28860986 0.26264055 0.30223886]\n",
            "prices [0.25351776 0.19414674 0.20112898 ... 0.31965555 0.21029677 0.6104165 ]\n"
          ]
        }
      ]
    },
    {
      "cell_type": "markdown",
      "source": [
        "Visualize"
      ],
      "metadata": {
        "id": "9gPpQpMS8Tj2"
      }
    },
    {
      "cell_type": "code",
      "source": [
        "Y = prices\n",
        "X = np.concatenate([moneys.reshape(-1,1), times.reshape(-1,1), volatility.reshape(-1,1)], axis=1)\n",
        "\n",
        "dataset = pd.DataFrame(np.concatenate([Y.reshape(-1,1), X], axis=1),\n",
        "                       columns=['Price', 'Moneyness', 'Time', 'Volatility'])\n",
        "print(X)\n",
        "print()\n",
        "print(Y)\n",
        "print()\n",
        "print(dataset.head())\n",
        "dataset.hist(bins=50, sharex=False, sharey=False, xlabelsize=1, ylabelsize=1, figsize=(12,12))\n",
        "pyplot.show()"
      ],
      "metadata": {
        "colab": {
          "base_uri": "https://localhost:8080/",
          "height": 993
        },
        "id": "FQxfDe2h8VHQ",
        "outputId": "ea81d746-1f66-41ff-d088-a02156c9d501"
      },
      "execution_count": 25,
      "outputs": [
        {
          "output_type": "stream",
          "name": "stdout",
          "text": [
            "[[0.76782109 0.35004584 0.24039529]\n",
            " [0.87395608 0.42985217 0.24457392]\n",
            " [1.10291291 0.92240233 0.29329934]\n",
            " ...\n",
            " [0.77338248 0.83474306 0.28860986]\n",
            " [0.91823437 0.61971991 0.26264055]\n",
            " [0.40281619 0.66576014 0.30223886]]\n",
            "\n",
            "[0.25351776 0.19414674 0.20112898 ... 0.31965555 0.21029677 0.6104165 ]\n",
            "\n",
            "      Price  Moneyness      Time  Volatility\n",
            "0  0.253518   0.767821  0.350046    0.240395\n",
            "1  0.194147   0.873956  0.429852    0.244574\n",
            "2  0.201129   1.102913  0.922402    0.293299\n",
            "3  0.108154   0.946589  0.200753    0.220361\n",
            "4  0.016492   1.247997  0.282450    0.234395\n"
          ]
        },
        {
          "output_type": "display_data",
          "data": {
            "text/plain": [
              "<Figure size 864x864 with 4 Axes>"
            ],
            "image/png": "[encoded data removed]"
          },
          "metadata": {
            "needs_background": "light"
          }
        }
      ]
    },
    {
      "cell_type": "markdown",
      "source": [
        "Train Test Split"
      ],
      "metadata": {
        "id": "45YTe4VZ_klo"
      }
    },
    {
      "cell_type": "code",
      "source": [
        "#train-test = 80-20\n",
        "validation_size = 0.2\n",
        "train_size = int(len(X) * (1-validation_size))\n",
        "print(train_size)\n",
        "X_train, X_test = X[0:train_size], X[train_size:len(X)]\n",
        "Y_train, Y_test = Y[0:train_size], Y[train_size:len(X)]"
      ],
      "metadata": {
        "colab": {
          "base_uri": "https://localhost:8080/"
        },
        "id": "mT0HISuo_l7-",
        "outputId": "c7c606c1-1455-4b0a-bc82-bbdb45b15fb3"
      },
      "execution_count": 26,
      "outputs": [
        {
          "output_type": "stream",
          "name": "stdout",
          "text": [
            "8000\n"
          ]
        }
      ]
    },
    {
      "cell_type": "markdown",
      "source": [
        "Models"
      ],
      "metadata": {
        "id": "RzzOfEr7Audo"
      }
    },
    {
      "cell_type": "code",
      "source": [
        "models = []\n",
        "\n",
        "#Linear Models and Regression Trees\n",
        "models.append(('LR', LinearRegression()))\n",
        "models.append(('LASSO', Lasso()))\n",
        "models.append(('EN', ElasticNet()))\n",
        "models.append(('KNN', KNeighborsRegressor()))\n",
        "models.append(('DT', DecisionTreeRegressor()))\n",
        "models.append(('SVR', SVR()))\n",
        "\n",
        "#Neural Network Predictor (Multi Layer Perceptron)\n",
        "models.append(('MLP', MLPRegressor()))\n",
        "\n",
        "# Boosting methods\n",
        "models.append(('ABR', AdaBoostRegressor()))\n",
        "models.append(('GBR', GradientBoostingRegressor()))\n",
        "# Bagging methods\n",
        "models.append(('RFR', RandomForestRegressor()))\n",
        "models.append(('ETR', ExtraTreesRegressor()))\n",
        "\n",
        "num_folds = 10\n",
        "# scikit is moving away from mean_squared_error. \n",
        "# In order to avoid confusion, and to allow comparison with other models, we invert the final scores\n",
        "scoring = 'neg_mean_squared_error' \n",
        "names = []\n",
        "kfold_results = []\n",
        "test_results = []\n",
        "train_results = []\n",
        "for name, model in models:\n",
        "    names.append(name)\n",
        "    \n",
        "    ## K Fold analysis:\n",
        "    \n",
        "    kfold = KFold(n_splits=num_folds)\n",
        "    \n",
        "    #converted mean square error to positive. The lower the beter\n",
        "    cv_results = -1* cross_val_score(model, X_train, Y_train, cv=kfold, scoring=scoring)\n",
        "    kfold_results.append(cv_results)\n",
        "    \n",
        "\n",
        "    # Full Training period\n",
        "    res = model.fit(X_train, Y_train)\n",
        "    train_result = mean_squared_error(res.predict(X_train), Y_train)\n",
        "    train_results.append(train_result)\n",
        "    \n",
        "    # Test results\n",
        "    test_result = mean_squared_error(res.predict(X_test), Y_test)\n",
        "    test_results.append(test_result)\n",
        "    \n",
        "    msg = \"%s: %f (%f) %f %f\" % (name, cv_results.mean(), cv_results.std(), train_result, test_result)\n",
        "    print(msg)"
      ],
      "metadata": {
        "colab": {
          "base_uri": "https://localhost:8080/"
        },
        "id": "1syKGb2wAvdP",
        "outputId": "e21d8cad-6eb8-488c-a00d-6d0b1e467275"
      },
      "execution_count": 29,
      "outputs": [
        {
          "output_type": "stream",
          "name": "stdout",
          "text": [
            "LR: 0.000368 (0.000026) 0.000367 0.000325\n",
            "LASSO: 0.018285 (0.001495) 0.018283 0.018369\n",
            "EN: 0.018285 (0.001495) 0.018283 0.018369\n",
            "KNN: 0.000016 (0.000008) 0.000008 0.000010\n",
            "CART: 0.000011 (0.000001) 0.000000 0.000009\n",
            "SVR: 0.004998 (0.000218) 0.005062 0.005084\n",
            "MLP: 0.000031 (0.000014) 0.000021 0.000020\n",
            "ABR: 0.000615 (0.000030) 0.000638 0.000653\n",
            "GBR: 0.000020 (0.000001) 0.000016 0.000020\n",
            "RFR: 0.000002 (0.000001) 0.000000 0.000002\n",
            "ETR: 0.000001 (0.000000) 0.000000 0.000000\n"
          ]
        }
      ]
    },
    {
      "cell_type": "markdown",
      "source": [
        "Results"
      ],
      "metadata": {
        "id": "mu3wgepDCq3s"
      }
    },
    {
      "cell_type": "code",
      "source": [
        "fig = pyplot.figure()\n",
        "fig.suptitle('Model Comparison: K-fold results')\n",
        "ax = fig.add_subplot(111)\n",
        "pyplot.boxplot(kfold_results)\n",
        "ax.set_xticklabels(names)\n",
        "fig.set_size_inches(15,8)\n",
        "pyplot.show()"
      ],
      "metadata": {
        "colab": {
          "base_uri": "https://localhost:8080/",
          "height": 540
        },
        "id": "UnYdZhljCsfv",
        "outputId": "7fe89d99-6195-40d2-a7fb-98526a652196"
      },
      "execution_count": 30,
      "outputs": [
        {
          "output_type": "display_data",
          "data": {
            "text/plain": [
              "<Figure size 1080x576 with 1 Axes>"
            ],
            "image/png": "[encoded data removed]"
          },
          "metadata": {
            "needs_background": "light"
          }
        }
      ]
    },
    {
      "cell_type": "markdown",
      "source": [
        "Remove LASSO and ElasticNet"
      ],
      "metadata": {
        "id": "3cidmRUADxXk"
      }
    },
    {
      "cell_type": "code",
      "source": [
        "# compare algorithms\n",
        "fig = pyplot.figure()\n",
        "train = train_results[0:1] + train_results[3:]\n",
        "test = test_results[0:1] + test_results[3:]\n",
        "if 'LASSO' in names:\n",
        "  names.remove('LASSO')\n",
        "if 'EN' in names:\n",
        "  names.remove('EN')\n",
        "\n",
        "ind = np.arange(len(names))  # the x locations for the groups\n",
        "width = 0.35  # the width of the bars\n",
        "fig.suptitle('Model Comparison')\n",
        "ax = fig.add_subplot(111)\n",
        "pyplot.bar(ind - width/2, train,  width=width, label='Train Error')\n",
        "pyplot.bar(ind + width/2, test, width=width, label='Test Error')\n",
        "fig.set_size_inches(15,8)\n",
        "pyplot.legend()\n",
        "ax.set_xticks(ind)\n",
        "ax.set_xticklabels(names)\n",
        "for i in range(len(train)):\n",
        "  p = \"%s: %10f %f\" % (names[i], train[i], test[i])\n",
        "  print(p)\n",
        "pyplot.show()"
      ],
      "metadata": {
        "colab": {
          "base_uri": "https://localhost:8080/",
          "height": 701
        },
        "id": "4B0fhrh3Dxz6",
        "outputId": "23ad87d7-eb49-4ac7-e20f-ccfc51cd4bbd"
      },
      "execution_count": 56,
      "outputs": [
        {
          "output_type": "stream",
          "name": "stdout",
          "text": [
            "LR:   0.000367 0.000325\n",
            "KNN:   0.000008 0.000010\n",
            "CART:   0.000000 0.000009\n",
            "SVR:   0.005062 0.005084\n",
            "MLP:   0.000021 0.000020\n",
            "ABR:   0.000638 0.000653\n",
            "GBR:   0.000016 0.000020\n",
            "RFR:   0.000000 0.000002\n",
            "ETR:   0.000000 0.000000\n"
          ]
        },
        {
          "output_type": "display_data",
          "data": {
            "text/plain": [
              "<Figure size 1080x576 with 1 Axes>"
            ],
            "image/png": "[encoded data removed]"
          },
          "metadata": {
            "needs_background": "light"
          }
        }
      ]
    }
  ]
}