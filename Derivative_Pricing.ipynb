{
  "nbformat": 4,
  "nbformat_minor": 0,
  "metadata": {
    "colab": {
      "name": "Derivative_Pricing.ipynb",
      "provenance": [],
      "collapsed_sections": []
    },
    "kernelspec": {
      "name": "python3",
      "display_name": "Python 3"
    },
    "language_info": {
      "name": "python"
    }
  },
  "cells": [
    {
      "cell_type": "markdown",
      "source": [
        "**Import Libraries**"
      ],
      "metadata": {
        "id": "MRWDeqvO3dpW"
      }
    },
    {
      "cell_type": "code",
      "execution_count": 10,
      "metadata": {
        "id": "fukrk-lk19Yr"
      },
      "outputs": [],
      "source": [
        "#Normal distribution functions\n",
        "from scipy.stats import norm\n",
        "\n",
        "\n",
        "# Load libraries\n",
        "import numpy as np\n",
        "import pandas as pd\n",
        "import pandas_datareader.data as web\n",
        "from matplotlib import pyplot\n",
        "from pandas.plotting import scatter_matrix\n",
        "import seaborn as sns\n",
        "from sklearn.preprocessing import StandardScaler\n",
        "\n",
        "from sklearn.model_selection import train_test_split\n",
        "from sklearn.model_selection import KFold\n",
        "from sklearn.model_selection import cross_val_score\n",
        "from sklearn.model_selection import GridSearchCV\n",
        "\n",
        "from sklearn.linear_model import LinearRegression\n",
        "from sklearn.linear_model import Lasso\n",
        "from sklearn.linear_model import ElasticNet\n",
        "from sklearn.tree import DecisionTreeRegressor\n",
        "from sklearn.neighbors import KNeighborsRegressor\n",
        "from sklearn.svm import SVR\n",
        "from sklearn.ensemble import RandomForestRegressor\n",
        "from sklearn.ensemble import GradientBoostingRegressor\n",
        "from sklearn.ensemble import ExtraTreesRegressor\n",
        "from sklearn.ensemble import AdaBoostRegressor\n",
        "from sklearn.neural_network import MLPRegressor\n",
        "\n",
        "#Libraries for Deep Learning Models\n",
        "from keras.models import Sequential\n",
        "from keras.layers import Dense\n",
        "from tensorflow.keras.optimizers import SGD\n",
        "from keras.layers import LSTM\n",
        "from keras.wrappers.scikit_learn import KerasRegressor\n",
        "\n",
        "#Libraries for Statistical Models\n",
        "import statsmodels.api as sm\n",
        "\n",
        "#Libraries for Saving the Model\n",
        "from pickle import dump\n",
        "from pickle import load\n",
        "\n",
        "# Time series Models\n",
        "from statsmodels.tsa.arima_model import ARIMA\n",
        "#from statsmodels.tsa.statespace.sarimax import SARIMAX\n",
        "\n",
        "# Error Metrics\n",
        "from sklearn.metrics import mean_squared_error\n",
        "\n",
        "# Feature Selection\n",
        "from sklearn.feature_selection import SelectKBest\n",
        "from sklearn.feature_selection import chi2, f_regression\n",
        "\n",
        "\n",
        "#Plotting \n",
        "from pandas.plotting import scatter_matrix\n",
        "from statsmodels.graphics.tsaplots import plot_acf\n",
        "\n",
        "#Diable the warnings\n",
        "import warnings\n",
        "warnings.filterwarnings('ignore')"
      ]
    },
    {
      "cell_type": "markdown",
      "source": [
        "**Black Scholes Formula**"
      ],
      "metadata": {
        "id": "Ee1QH_QE3c_J"
      }
    },
    {
      "cell_type": "code",
      "source": [
        "true_alpha = 0.1\n",
        "true_beta = 0.1\n",
        "true_sigma0 = 0.2\n",
        "interest = 0.05\n",
        "\n",
        "def vol(moneyness, time):\n",
        "    return true_sigma0 + true_alpha * time + true_beta * np.square(moneyness - 1)\n",
        "\n",
        "def call_option_price(moneyness, time, option_vol):\n",
        "    d1=(np.log(1/moneyness)+(interest + np.square(option_vol))*time)/(option_vol*np.sqrt(time))\n",
        "    d2=(np.log(1/moneyness)+(interest - np.square(option_vol))*time)/(option_vol*np.sqrt(time))\n",
        "    N_d1 = norm.cdf(d1)\n",
        "    N_d2 = norm.cdf(d2)\n",
        "    \n",
        "    return N_d1 - moneyness * np.exp(- interest * time) * N_d2"
      ],
      "metadata": {
        "id": "h9QpZDsa3mwm"
      },
      "execution_count": 11,
      "outputs": []
    },
    {
      "cell_type": "markdown",
      "source": [
        "**Generating Data**"
      ],
      "metadata": {
        "id": "GQnBSyv94n6x"
      }
    },
    {
      "cell_type": "code",
      "source": [
        "N = 10000\n",
        "\n",
        "moneys = 1+0.25*np.random.randn(N)\n",
        "times = np.random.random(N)\n",
        "volatility = np.array([vol(k,t) for k,t in zip(moneys, times)])\n",
        "prices = np.array([call_option_price(k,t,sig) for k,t,sig in zip(moneys, times, volatility)])\n",
        "print('moneys', moneys)\n",
        "print('times', times)\n",
        "print('volatility', volatility)\n",
        "print('prices', prices)"
      ],
      "metadata": {
        "colab": {
          "base_uri": "https://localhost:8080/"
        },
        "id": "xXcHFEd74o2u",
        "outputId": "88cafb11-a700-46cf-a454-1637279c4d2b"
      },
      "execution_count": 12,
      "outputs": [
        {
          "output_type": "stream",
          "name": "stdout",
          "text": [
            "moneys [1.1063825  0.69838769 1.10470999 ... 0.52748129 1.04809289 0.48099839]\n",
            "times [0.08052052 0.72529924 0.09457902 ... 0.95112869 0.31991892 0.29300662]\n",
            "volatility [0.20918378 0.28162692 0.21055432 ... 0.31744026 0.23222318 0.25623693]\n",
            "prices [0.00785497 0.35053826 0.01141056 ... 0.50541481 0.09042725 0.52599705]\n"
          ]
        }
      ]
    },
    {
      "cell_type": "markdown",
      "source": [
        "**Visualize**"
      ],
      "metadata": {
        "id": "9gPpQpMS8Tj2"
      }
    },
    {
      "cell_type": "code",
      "source": [
        "Y = prices\n",
        "X = np.concatenate([moneys.reshape(-1,1), times.reshape(-1,1), volatility.reshape(-1,1)], axis=1)\n",
        "\n",
        "dataset = pd.DataFrame(np.concatenate([Y.reshape(-1,1), X], axis=1),\n",
        "                       columns=['Price', 'Moneyness', 'Time', 'Volatility'])\n",
        "print(X)\n",
        "print()\n",
        "print(Y)\n",
        "print()\n",
        "print(dataset.head())\n",
        "dataset.hist(bins=50, sharex=False, sharey=False, xlabelsize=1, ylabelsize=1, figsize=(12,12))\n",
        "pyplot.show()"
      ],
      "metadata": {
        "colab": {
          "base_uri": "https://localhost:8080/",
          "height": 993
        },
        "id": "FQxfDe2h8VHQ",
        "outputId": "a72e4ba2-ae62-43c5-a44e-7d0e54ed31cb"
      },
      "execution_count": 13,
      "outputs": [
        {
          "output_type": "stream",
          "name": "stdout",
          "text": [
            "[[1.1063825  0.08052052 0.20918378]\n",
            " [0.69838769 0.72529924 0.28162692]\n",
            " [1.10470999 0.09457902 0.21055432]\n",
            " ...\n",
            " [0.52748129 0.95112869 0.31744026]\n",
            " [1.04809289 0.31991892 0.23222318]\n",
            " [0.48099839 0.29300662 0.25623693]]\n",
            "\n",
            "[0.00785497 0.35053826 0.01141056 ... 0.50541481 0.09042725 0.52599705]\n",
            "\n",
            "      Price  Moneyness      Time  Volatility\n",
            "0  0.007855   1.106383  0.080521    0.209184\n",
            "1  0.350538   0.698388  0.725299    0.281627\n",
            "2  0.011411   1.104710  0.094579    0.210554\n",
            "3  0.257295   0.764361  0.358429    0.241395\n",
            "4  0.312279   0.696275  0.241423    0.233367\n"
          ]
        },
        {
          "output_type": "display_data",
          "data": {
            "text/plain": [
              "<Figure size 864x864 with 4 Axes>"
            ],
            "image/png": "[encoded data removed]"
          },
          "metadata": {
            "needs_background": "light"
          }
        }
      ]
    },
    {
      "cell_type": "markdown",
      "source": [
        "**Train Test Split**"
      ],
      "metadata": {
        "id": "45YTe4VZ_klo"
      }
    },
    {
      "cell_type": "code",
      "source": [
        "#train-test = 80-20\n",
        "validation_size = 0.2\n",
        "train_size = int(len(X) * (1-validation_size))\n",
        "print(train_size)\n",
        "X_train, X_test = X[0:train_size], X[train_size:len(X)]\n",
        "Y_train, Y_test = Y[0:train_size], Y[train_size:len(X)]"
      ],
      "metadata": {
        "colab": {
          "base_uri": "https://localhost:8080/"
        },
        "id": "mT0HISuo_l7-",
        "outputId": "47deff98-ee72-464f-ea7a-d505e3335fcf"
      },
      "execution_count": 14,
      "outputs": [
        {
          "output_type": "stream",
          "name": "stdout",
          "text": [
            "8000\n"
          ]
        }
      ]
    },
    {
      "cell_type": "markdown",
      "source": [
        "**Models and K-fold Analysis**"
      ],
      "metadata": {
        "id": "RzzOfEr7Audo"
      }
    },
    {
      "cell_type": "code",
      "source": [
        "models = []\n",
        "\n",
        "#Linear Models and Regression Trees\n",
        "models.append(('LR', LinearRegression()))\n",
        "models.append(('LASSO', Lasso()))\n",
        "models.append(('EN', ElasticNet()))\n",
        "models.append(('KNN', KNeighborsRegressor()))\n",
        "models.append(('DT', DecisionTreeRegressor()))\n",
        "models.append(('SVR', SVR()))\n",
        "\n",
        "#Neural Network Predictor (Multi Layer Perceptron)\n",
        "models.append(('MLP', MLPRegressor()))\n",
        "\n",
        "# Boosting methods\n",
        "models.append(('ABR', AdaBoostRegressor()))\n",
        "models.append(('GBR', GradientBoostingRegressor()))\n",
        "# Bagging methods\n",
        "models.append(('RFR', RandomForestRegressor()))\n",
        "models.append(('ETR', ExtraTreesRegressor()))\n",
        "\n",
        "num_folds = 10\n",
        "# scikit is moving away from mean_squared_error. \n",
        "# In order to avoid confusion, and to allow comparison with other models, we invert the final scores\n",
        "scoring = 'neg_mean_squared_error' \n",
        "names = []\n",
        "kfold_results = []\n",
        "test_results = []\n",
        "train_results = []\n",
        "for name, model in models:\n",
        "    names.append(name)\n",
        "    \n",
        "    ## K Fold analysis:\n",
        "    \n",
        "    kfold = KFold(n_splits=num_folds)\n",
        "    \n",
        "    #converted mean square error to positive. The lower the beter\n",
        "    cv_results = -1* cross_val_score(model, X_train, Y_train, cv=kfold, scoring=scoring)\n",
        "    kfold_results.append(cv_results)\n",
        "    \n",
        "\n",
        "    # Full Training period\n",
        "    res = model.fit(X_train, Y_train)\n",
        "    train_result = mean_squared_error(res.predict(X_train), Y_train)\n",
        "    train_results.append(train_result)\n",
        "    \n",
        "    # Test results\n",
        "    test_result = mean_squared_error(res.predict(X_test), Y_test)\n",
        "    test_results.append(test_result)\n",
        "    \n",
        "    msg = \"%s: %f (%f) %f %f\" % (name, cv_results.mean(), cv_results.std(), train_result, test_result)\n",
        "    print(msg)"
      ],
      "metadata": {
        "colab": {
          "base_uri": "https://localhost:8080/"
        },
        "id": "1syKGb2wAvdP",
        "outputId": "ad8a00f0-6b10-4a09-803d-19438dd38a79"
      },
      "execution_count": 15,
      "outputs": [
        {
          "output_type": "stream",
          "name": "stdout",
          "text": [
            "LR: 0.000361 (0.000019) 0.000360 0.000346\n",
            "LASSO: 0.018918 (0.001100) 0.018917 0.017744\n",
            "EN: 0.018918 (0.001100) 0.018917 0.017744\n",
            "KNN: 0.000017 (0.000007) 0.000009 0.000007\n",
            "DT: 0.000010 (0.000002) 0.000000 0.000008\n",
            "SVR: 0.004857 (0.000266) 0.004892 0.004915\n",
            "MLP: 0.000040 (0.000047) 0.000069 0.000059\n",
            "ABR: 0.000667 (0.000054) 0.000647 0.000623\n",
            "GBR: 0.000021 (0.000002) 0.000017 0.000019\n",
            "RFR: 0.000002 (0.000000) 0.000000 0.000002\n",
            "ETR: 0.000001 (0.000000) 0.000000 0.000000\n"
          ]
        }
      ]
    },
    {
      "cell_type": "markdown",
      "source": [
        "**Results**"
      ],
      "metadata": {
        "id": "mu3wgepDCq3s"
      }
    },
    {
      "cell_type": "code",
      "source": [
        "fig = pyplot.figure()\n",
        "fig.suptitle('Model Comparison: K-fold results')\n",
        "ax = fig.add_subplot(111)\n",
        "pyplot.boxplot(kfold_results)\n",
        "ax.set_xticklabels(names)\n",
        "fig.set_size_inches(15,8)\n",
        "pyplot.show()"
      ],
      "metadata": {
        "colab": {
          "base_uri": "https://localhost:8080/",
          "height": 540
        },
        "id": "UnYdZhljCsfv",
        "outputId": "1f6ba563-eb21-42e7-d7a6-51225b7a2ce9"
      },
      "execution_count": 16,
      "outputs": [
        {
          "output_type": "display_data",
          "data": {
            "text/plain": [
              "<Figure size 1080x576 with 1 Axes>"
            ],
            "image/png": "[encoded data removed]"
          },
          "metadata": {
            "needs_background": "light"
          }
        }
      ]
    },
    {
      "cell_type": "markdown",
      "source": [
        "**Remove LASSO and ElasticNet**"
      ],
      "metadata": {
        "id": "3cidmRUADxXk"
      }
    },
    {
      "cell_type": "code",
      "source": [
        "# compare algorithms\n",
        "fig = pyplot.figure()\n",
        "train = train_results[0:1] + train_results[3:]\n",
        "test = test_results[0:1] + test_results[3:]\n",
        "if 'LASSO' in names:\n",
        "  names.remove('LASSO')\n",
        "if 'EN' in names:\n",
        "  names.remove('EN')\n",
        "\n",
        "ind = np.arange(len(names))  # the x locations for the groups\n",
        "width = 0.35  # the width of the bars\n",
        "fig.suptitle('Model Comparison')\n",
        "ax = fig.add_subplot(111)\n",
        "pyplot.bar(ind - width/2, train,  width=width, label='Train Error')\n",
        "pyplot.bar(ind + width/2, test, width=width, label='Test Error')\n",
        "fig.set_size_inches(15,8)\n",
        "pyplot.legend()\n",
        "ax.set_xticks(ind)\n",
        "ax.set_xticklabels(names)\n",
        "for i in range(len(train)):\n",
        "  p = \"%s: %10f %f\" % (names[i], train[i], test[i])\n",
        "  print(p)\n",
        "pyplot.show()"
      ],
      "metadata": {
        "colab": {
          "base_uri": "https://localhost:8080/",
          "height": 701
        },
        "id": "4B0fhrh3Dxz6",
        "outputId": "7e7a7809-c39a-42ea-8836-28e8bb8735f8"
      },
      "execution_count": 17,
      "outputs": [
        {
          "output_type": "stream",
          "name": "stdout",
          "text": [
            "LR:   0.000360 0.000346\n",
            "KNN:   0.000009 0.000007\n",
            "DT:   0.000000 0.000008\n",
            "SVR:   0.004892 0.004915\n",
            "MLP:   0.000069 0.000059\n",
            "ABR:   0.000647 0.000623\n",
            "GBR:   0.000017 0.000019\n",
            "RFR:   0.000000 0.000002\n",
            "ETR:   0.000000 0.000000\n"
          ]
        },
        {
          "output_type": "display_data",
          "data": {
            "text/plain": [
              "<Figure size 1080x576 with 1 Axes>"
            ],
            "image/png": "[encoded data removed]"
          },
          "metadata": {
            "needs_background": "light"
          }
        }
      ]
    },
    {
      "cell_type": "markdown",
      "source": [
        "**Improving MLP using GridSearchCV**"
      ],
      "metadata": {
        "id": "URfqMEvkJ4no"
      }
    },
    {
      "cell_type": "code",
      "source": [
        "param_grid={'hidden_layer_sizes': [(20,), (50,), (20,20), (20, 30, 20)]}\n",
        "kfold = KFold(n_splits=num_folds)\n",
        "grid = GridSearchCV(estimator=MLPRegressor(), param_grid=param_grid, scoring=scoring, cv=kfold)\n",
        "mlp = grid.fit(X_train, Y_train)\n",
        "print(\"Best: %f using %s\" % (mlp.best_score_, mlp.best_params_))\n",
        "print()\n",
        "#improved MLP\n",
        "from sklearn.metrics import accuracy_score, classification_report, confusion_matrix\n",
        "predictions = mlp.predict(X_test)\n",
        "print(mean_squared_error(Y_test, predictions))"
      ],
      "metadata": {
        "colab": {
          "base_uri": "https://localhost:8080/"
        },
        "id": "f4w-qhH5J8pP",
        "outputId": "c1944afc-0b4c-4e6f-8ee2-ab6d51ccdc21"
      },
      "execution_count": 18,
      "outputs": [
        {
          "output_type": "stream",
          "name": "stdout",
          "text": [
            "Best: -0.000035 using {'hidden_layer_sizes': (20, 30, 20)}\n",
            "\n",
            "7.3692266765512155e-06\n"
          ]
        }
      ]
    },
    {
      "cell_type": "markdown",
      "source": [
        "**Additional analysis: Removing volatility data**"
      ],
      "metadata": {
        "id": "0AsFPZjEkx09"
      }
    },
    {
      "cell_type": "code",
      "source": [
        "X = np.concatenate([moneys.reshape(-1,1), times.reshape(-1,1)], axis=1)\n",
        "validation_size = 0.2\n",
        "\n",
        "train_size = int(len(X) * (1-validation_size))\n",
        "X_train, X_test = X[0:train_size], X[train_size:len(X)]\n",
        "Y_train, Y_test = Y[0:train_size], Y[train_size:len(X)]\n",
        "\n",
        "models = []\n",
        "#Linear Models and Regression Trees\n",
        "models.append(('LR', LinearRegression()))\n",
        "models.append(('KNN', KNeighborsRegressor()))\n",
        "models.append(('DT', DecisionTreeRegressor()))\n",
        "models.append(('SVR', SVR()))\n",
        "\n",
        "#Neural Network Predictor (Multi Layer Perceptron)\n",
        "models.append(('MLP', MLPRegressor()))\n",
        "\n",
        "# Boosting methods\n",
        "models.append(('ABR', AdaBoostRegressor()))\n",
        "models.append(('GBR', GradientBoostingRegressor()))\n",
        "# Bagging methods\n",
        "models.append(('RFR', RandomForestRegressor()))\n",
        "models.append(('ETR', ExtraTreesRegressor()))\n",
        "\n",
        "\n",
        "num_folds = 10\n",
        "# scikit is moving away from mean_squared_error. \n",
        "# In order to avoid confusion, and to allow comparison with other models, we invert the final scores\n",
        "scoring = 'neg_mean_squared_error' \n",
        "\n",
        "\n",
        "names = []\n",
        "kfold_results = []\n",
        "test_results = []\n",
        "train_results = []\n",
        "for name, model in models:\n",
        "    names.append(name)\n",
        "    \n",
        "    ## K Fold analysis:\n",
        "    \n",
        "    kfold = KFold(n_splits=num_folds)\n",
        "    #converted mean square error to positive. The lower the better\n",
        "    cv_results = -1* cross_val_score(model, X_train, Y_train, cv=kfold, scoring=scoring)\n",
        "    kfold_results.append(cv_results)\n",
        "    \n",
        "\n",
        "    # Full Training period\n",
        "    res = model.fit(X_train, Y_train)\n",
        "    train_result = mean_squared_error(res.predict(X_train), Y_train)\n",
        "    train_results.append(train_result)\n",
        "    \n",
        "    # Test results\n",
        "    test_result = mean_squared_error(res.predict(X_test), Y_test)\n",
        "    test_results.append(test_result)\n",
        "    \n",
        "    msg = \"%s: %f (%f) %f %f\" % (name, cv_results.mean(), cv_results.std(), train_result, test_result)\n",
        "    print(msg)"
      ],
      "metadata": {
        "colab": {
          "base_uri": "https://localhost:8080/"
        },
        "id": "LT3WQSKZk2IW",
        "outputId": "f56c0062-3865-4496-e9b3-86df5a6b5692"
      },
      "execution_count": 23,
      "outputs": [
        {
          "output_type": "stream",
          "name": "stdout",
          "text": [
            "LR: 0.002173 (0.000181) 0.002171 0.001908\n",
            "KNN: 0.000017 (0.000007) 0.000009 0.000009\n",
            "DT: 0.000010 (0.000001) 0.000000 0.000008\n",
            "SVR: 0.005913 (0.000133) 0.005876 0.005921\n",
            "MLP: 0.000025 (0.000015) 0.000079 0.000068\n",
            "ABR: 0.000653 (0.000037) 0.000681 0.000662\n",
            "GBR: 0.000021 (0.000002) 0.000018 0.000019\n",
            "RFR: 0.000002 (0.000000) 0.000000 0.000002\n",
            "ETR: 0.000001 (0.000000) 0.000000 0.000000\n"
          ]
        }
      ]
    },
    {
      "cell_type": "code",
      "source": [
        "# compare algorithms\n",
        "fig = pyplot.figure()\n",
        "\n",
        "ind = np.arange(len(names))  # the x locations for the groups\n",
        "width = 0.35  # the width of the bars\n",
        "\n",
        "fig.suptitle('Algorithm Comparison')\n",
        "ax = fig.add_subplot(111)\n",
        "pyplot.bar(ind - width/2, train_results,  width=width, label='Train Error')\n",
        "pyplot.bar(ind + width/2, test_results, width=width, label='Test Error')\n",
        "fig.set_size_inches(15,8)\n",
        "pyplot.legend()\n",
        "ax.set_xticks(ind)\n",
        "ax.set_xticklabels(names)\n",
        "pyplot.show()"
      ],
      "metadata": {
        "colab": {
          "base_uri": "https://localhost:8080/",
          "height": 540
        },
        "id": "NsNP8_PbnC44",
        "outputId": "448b5a50-8696-4740-feed-6ad8c33cfbc2"
      },
      "execution_count": 24,
      "outputs": [
        {
          "output_type": "display_data",
          "data": {
            "text/plain": [
              "<Figure size 1080x576 with 1 Axes>"
            ],
            "image/png": "[encoded data removed]"
          },
          "metadata": {
            "needs_background": "light"
          }
        }
      ]
    }
  ]
}