{
  "nbformat": 4,
  "nbformat_minor": 0,
  "metadata": {
    "colab": {
      "name": "Derivative_Pricing.ipynb",
      "provenance": [],
      "collapsed_sections": []
    },
    "kernelspec": {
      "name": "python3",
      "display_name": "Python 3"
    },
    "language_info": {
      "name": "python"
    }
  },
  "cells": [
    {
      "cell_type": "markdown",
      "source": [
        "**Import Libraries**"
      ],
      "metadata": {
        "id": "MRWDeqvO3dpW"
      }
    },
    {
      "cell_type": "code",
      "execution_count": 5,
      "metadata": {
        "id": "fukrk-lk19Yr"
      },
      "outputs": [],
      "source": [
        "#Normal distribution functions\n",
        "from scipy.stats import norm\n",
        "\n",
        "\n",
        "# Load libraries\n",
        "import numpy as np\n",
        "import pandas as pd\n",
        "import pandas_datareader.data as web\n",
        "from matplotlib import pyplot\n",
        "from pandas.plotting import scatter_matrix\n",
        "import seaborn as sns\n",
        "from sklearn.preprocessing import StandardScaler\n",
        "\n",
        "from sklearn.model_selection import train_test_split\n",
        "from sklearn.model_selection import KFold\n",
        "from sklearn.model_selection import cross_val_score\n",
        "from sklearn.model_selection import GridSearchCV\n",
        "\n",
        "from sklearn.linear_model import LinearRegression\n",
        "from sklearn.linear_model import Lasso\n",
        "from sklearn.linear_model import ElasticNet\n",
        "from sklearn.tree import DecisionTreeRegressor\n",
        "from sklearn.neighbors import KNeighborsRegressor\n",
        "from sklearn.svm import SVR\n",
        "from sklearn.ensemble import RandomForestRegressor\n",
        "from sklearn.ensemble import GradientBoostingRegressor\n",
        "from sklearn.ensemble import ExtraTreesRegressor\n",
        "from sklearn.ensemble import AdaBoostRegressor\n",
        "from sklearn.neural_network import MLPRegressor\n",
        "\n",
        "#Libraries for Deep Learning Models\n",
        "from keras.models import Sequential\n",
        "from keras.layers import Dense\n",
        "from tensorflow.keras.optimizers import SGD\n",
        "from keras.layers import LSTM\n",
        "from keras.wrappers.scikit_learn import KerasRegressor\n",
        "\n",
        "#Libraries for Statistical Models\n",
        "import statsmodels.api as sm\n",
        "\n",
        "#Libraries for Saving the Model\n",
        "from pickle import dump\n",
        "from pickle import load\n",
        "\n",
        "# Time series Models\n",
        "from statsmodels.tsa.arima_model import ARIMA\n",
        "#from statsmodels.tsa.statespace.sarimax import SARIMAX\n",
        "\n",
        "# Error Metrics\n",
        "from sklearn.metrics import mean_squared_error\n",
        "\n",
        "# Feature Selection\n",
        "from sklearn.feature_selection import SelectKBest\n",
        "from sklearn.feature_selection import chi2, f_regression\n",
        "\n",
        "\n",
        "#Plotting \n",
        "from pandas.plotting import scatter_matrix\n",
        "from statsmodels.graphics.tsaplots import plot_acf\n",
        "\n",
        "#Diable the warnings\n",
        "import warnings\n",
        "warnings.filterwarnings('ignore')"
      ]
    },
    {
      "cell_type": "markdown",
      "source": [
        "**Black Scholes Formula**"
      ],
      "metadata": {
        "id": "Ee1QH_QE3c_J"
      }
    },
    {
      "cell_type": "code",
      "source": [
        "true_alpha = 0.1\n",
        "true_beta = 0.1\n",
        "true_sigma0 = 0.2\n",
        "interest = 0.05\n",
        "\n",
        "def vol(moneyness, time):\n",
        "    return true_sigma0 + true_alpha * time + true_beta * np.square(moneyness - 1)\n",
        "\n",
        "def call_option_price(moneyness, time, option_vol):\n",
        "    d1=(np.log(1/moneyness)+(interest + np.square(option_vol))*time)/(option_vol*np.sqrt(time))\n",
        "    d2=(np.log(1/moneyness)+(interest - np.square(option_vol))*time)/(option_vol*np.sqrt(time))\n",
        "    N_d1 = norm.cdf(d1)\n",
        "    N_d2 = norm.cdf(d2)\n",
        "    \n",
        "    return N_d1 - moneyness * np.exp(- interest * time) * N_d2"
      ],
      "metadata": {
        "id": "h9QpZDsa3mwm"
      },
      "execution_count": 6,
      "outputs": []
    },
    {
      "cell_type": "markdown",
      "source": [
        "**Generating Data**"
      ],
      "metadata": {
        "id": "GQnBSyv94n6x"
      }
    },
    {
      "cell_type": "code",
      "source": [
        "N = 10000\n",
        "\n",
        "moneys = 1+0.25*np.random.randn(N)\n",
        "times = np.random.random(N)\n",
        "volatility = np.array([vol(k,t) for k,t in zip(moneys, times)])\n",
        "prices = np.array([call_option_price(k,t,sig) for k,t,sig in zip(moneys, times, volatility)])\n",
        "print('moneys', moneys)\n",
        "print('times', times)\n",
        "print('volatility', volatility)\n",
        "print('prices', prices)"
      ],
      "metadata": {
        "colab": {
          "base_uri": "https://localhost:8080/"
        },
        "id": "xXcHFEd74o2u",
        "outputId": "ae14b756-9923-4cb8-83ac-cbfe204f0112"
      },
      "execution_count": 7,
      "outputs": [
        {
          "output_type": "stream",
          "name": "stdout",
          "text": [
            "moneys [1.03270066 1.36519765 0.90017063 ... 1.07207945 1.19684273 1.09174856]\n",
            "times [0.65523864 0.28458524 0.786723   ... 0.65220728 0.87219497 0.73281997]\n",
            "volatility [0.2656308  0.24179546 0.27966889 ... 0.26574027 0.2910942  0.27412378]\n",
            "prices [0.17049046 0.00474645 0.25080846 ... 0.15429537 0.15755684 0.16417986]\n"
          ]
        }
      ]
    },
    {
      "cell_type": "markdown",
      "source": [
        "**Visualize**"
      ],
      "metadata": {
        "id": "9gPpQpMS8Tj2"
      }
    },
    {
      "cell_type": "code",
      "source": [
        "Y = prices\n",
        "X = np.concatenate([moneys.reshape(-1,1), times.reshape(-1,1), volatility.reshape(-1,1)], axis=1)\n",
        "\n",
        "dataset = pd.DataFrame(np.concatenate([Y.reshape(-1,1), X], axis=1),\n",
        "                       columns=['Price', 'Moneyness', 'Time', 'Volatility'])\n",
        "print(X)\n",
        "print()\n",
        "print(Y)\n",
        "print()\n",
        "print(dataset.head())\n",
        "dataset.hist(bins=50, sharex=False, sharey=False, xlabelsize=1, ylabelsize=1, figsize=(12,12))\n",
        "pyplot.show()"
      ],
      "metadata": {
        "colab": {
          "base_uri": "https://localhost:8080/",
          "height": 993
        },
        "id": "FQxfDe2h8VHQ",
        "outputId": "3ee261d1-0c50-45e0-e00d-93d8fafa0d2c"
      },
      "execution_count": 8,
      "outputs": [
        {
          "output_type": "stream",
          "name": "stdout",
          "text": [
            "[[1.03270066 0.65523864 0.2656308 ]\n",
            " [1.36519765 0.28458524 0.24179546]\n",
            " [0.90017063 0.786723   0.27966889]\n",
            " ...\n",
            " [1.07207945 0.65220728 0.26574027]\n",
            " [1.19684273 0.87219497 0.2910942 ]\n",
            " [1.09174856 0.73281997 0.27412378]]\n",
            "\n",
            "[0.17049046 0.00474645 0.25080846 ... 0.15429537 0.15755684 0.16417986]\n",
            "\n",
            "      Price  Moneyness      Time  Volatility\n",
            "0  0.170490   1.032701  0.655239    0.265631\n",
            "1  0.004746   1.365198  0.284585    0.241795\n",
            "2  0.250808   0.900171  0.786723    0.279669\n",
            "3  0.258891   0.849970  0.710604    0.273311\n",
            "4  0.007869   1.035545  0.020895    0.202216\n"
          ]
        },
        {
          "output_type": "display_data",
          "data": {
            "text/plain": [
              "<Figure size 864x864 with 4 Axes>"
            ],
            "image/png": "[encoded data removed]"
          },
          "metadata": {
            "needs_background": "light"
          }
        }
      ]
    },
    {
      "cell_type": "markdown",
      "source": [
        "**Train Test Split**"
      ],
      "metadata": {
        "id": "45YTe4VZ_klo"
      }
    },
    {
      "cell_type": "code",
      "source": [
        "#train-test = 80-20\n",
        "validation_size = 0.2\n",
        "train_size = int(len(X) * (1-validation_size))\n",
        "print(train_size)\n",
        "X_train, X_test = X[0:train_size], X[train_size:len(X)]\n",
        "Y_train, Y_test = Y[0:train_size], Y[train_size:len(X)]"
      ],
      "metadata": {
        "colab": {
          "base_uri": "https://localhost:8080/"
        },
        "id": "mT0HISuo_l7-",
        "outputId": "38db6d34-32c5-417c-813a-4d251dfdb1f9"
      },
      "execution_count": 9,
      "outputs": [
        {
          "output_type": "stream",
          "name": "stdout",
          "text": [
            "8000\n"
          ]
        }
      ]
    },
    {
      "cell_type": "markdown",
      "source": [
        "**Models and K-fold Analysis**"
      ],
      "metadata": {
        "id": "RzzOfEr7Audo"
      }
    },
    {
      "cell_type": "code",
      "source": [
        "models = []\n",
        "\n",
        "#Linear Models and Regression Trees\n",
        "models.append(('LR', LinearRegression()))\n",
        "models.append(('LASSO', Lasso()))\n",
        "models.append(('EN', ElasticNet()))\n",
        "models.append(('KNN', KNeighborsRegressor()))\n",
        "models.append(('DT', DecisionTreeRegressor()))\n",
        "models.append(('SVR', SVR()))\n",
        "\n",
        "#Neural Network Predictor (Multi Layer Perceptron)\n",
        "models.append(('MLP', MLPRegressor()))\n",
        "\n",
        "# Boosting methods\n",
        "models.append(('ABR', AdaBoostRegressor()))\n",
        "models.append(('GBR', GradientBoostingRegressor()))\n",
        "# Bagging methods\n",
        "models.append(('RFR', RandomForestRegressor()))\n",
        "models.append(('ETR', ExtraTreesRegressor()))\n",
        "\n",
        "num_folds = 10\n",
        "# scikit is moving away from mean_squared_error. \n",
        "# In order to avoid confusion, and to allow comparison with other models, we invert the final scores\n",
        "scoring = 'neg_mean_squared_error' \n",
        "names = []\n",
        "kfold_results = []\n",
        "test_results = []\n",
        "train_results = []\n",
        "for name, model in models:\n",
        "    names.append(name)\n",
        "    \n",
        "    ## K Fold analysis:\n",
        "    \n",
        "    kfold = KFold(n_splits=num_folds)\n",
        "    \n",
        "    #converted mean square error to positive. The lower the beter\n",
        "    cv_results = -1* cross_val_score(model, X_train, Y_train, cv=kfold, scoring=scoring)\n",
        "    kfold_results.append(cv_results)\n",
        "    \n",
        "\n",
        "    # Full Training period\n",
        "    res = model.fit(X_train, Y_train)\n",
        "    train_result = mean_squared_error(res.predict(X_train), Y_train)\n",
        "    train_results.append(train_result)\n",
        "    \n",
        "    # Test results\n",
        "    test_result = mean_squared_error(res.predict(X_test), Y_test)\n",
        "    test_results.append(test_result)\n",
        "    \n",
        "    msg = \"%s: %f (%f) %f %f\" % (name, cv_results.mean(), cv_results.std(), train_result, test_result)\n",
        "    print(msg)"
      ],
      "metadata": {
        "colab": {
          "base_uri": "https://localhost:8080/"
        },
        "id": "1syKGb2wAvdP",
        "outputId": "5e88856c-d1fe-4aea-aa23-7f1c6f46d79c"
      },
      "execution_count": 10,
      "outputs": [
        {
          "output_type": "stream",
          "name": "stdout",
          "text": [
            "LR: 0.000352 (0.000027) 0.000351 0.000339\n",
            "LASSO: 0.018301 (0.001300) 0.018293 0.017258\n",
            "EN: 0.018301 (0.001300) 0.018293 0.017258\n",
            "KNN: 0.000018 (0.000012) 0.000009 0.000011\n",
            "DT: 0.000012 (0.000006) 0.000000 0.000008\n",
            "SVR: 0.003922 (0.000086) 0.003881 0.003832\n",
            "MLP: 0.000036 (0.000016) 0.000008 0.000006\n",
            "ABR: 0.000663 (0.000044) 0.000718 0.000731\n",
            "GBR: 0.000021 (0.000003) 0.000015 0.000017\n",
            "RFR: 0.000003 (0.000003) 0.000000 0.000001\n",
            "ETR: 0.000001 (0.000001) 0.000000 0.000000\n"
          ]
        }
      ]
    },
    {
      "cell_type": "markdown",
      "source": [
        "**Results**"
      ],
      "metadata": {
        "id": "mu3wgepDCq3s"
      }
    },
    {
      "cell_type": "code",
      "source": [
        "fig = pyplot.figure()\n",
        "fig.suptitle('Model Comparison: K-fold results')\n",
        "ax = fig.add_subplot(111)\n",
        "pyplot.boxplot(kfold_results)\n",
        "ax.set_xticklabels(names)\n",
        "fig.set_size_inches(15,8)\n",
        "pyplot.show()"
      ],
      "metadata": {
        "colab": {
          "base_uri": "https://localhost:8080/",
          "height": 540
        },
        "id": "UnYdZhljCsfv",
        "outputId": "26e02e74-70e6-4c73-d761-1038d766cc70"
      },
      "execution_count": 11,
      "outputs": [
        {
          "output_type": "display_data",
          "data": {
            "text/plain": [
              "<Figure size 1080x576 with 1 Axes>"
            ],
            "image/png": "[encoded data removed]"
          },
          "metadata": {
            "needs_background": "light"
          }
        }
      ]
    },
    {
      "cell_type": "markdown",
      "source": [
        "**Remove LASSO and ElasticNet**"
      ],
      "metadata": {
        "id": "3cidmRUADxXk"
      }
    },
    {
      "cell_type": "code",
      "source": [
        "# compare algorithms\n",
        "fig = pyplot.figure()\n",
        "train = train_results[0:1] + train_results[3:]\n",
        "test = test_results[0:1] + test_results[3:]\n",
        "if 'LASSO' in names:\n",
        "  names.remove('LASSO')\n",
        "if 'EN' in names:\n",
        "  names.remove('EN')\n",
        "\n",
        "ind = np.arange(len(names))  # the x locations for the groups\n",
        "width = 0.35  # the width of the bars\n",
        "fig.suptitle('Model Comparison')\n",
        "ax = fig.add_subplot(111)\n",
        "pyplot.bar(ind - width/2, train,  width=width, label='Train Error')\n",
        "pyplot.bar(ind + width/2, test, width=width, label='Test Error')\n",
        "fig.set_size_inches(15,8)\n",
        "pyplot.legend()\n",
        "ax.set_xticks(ind)\n",
        "ax.set_xticklabels(names)\n",
        "for i in range(len(train)):\n",
        "  p = \"%s: %10f %f\" % (names[i], train[i], test[i])\n",
        "  print(p)\n",
        "pyplot.show()"
      ],
      "metadata": {
        "colab": {
          "base_uri": "https://localhost:8080/",
          "height": 701
        },
        "id": "4B0fhrh3Dxz6",
        "outputId": "e6b6862b-cf05-46c5-945e-f21af7b4832e"
      },
      "execution_count": 12,
      "outputs": [
        {
          "output_type": "stream",
          "name": "stdout",
          "text": [
            "LR:   0.000351 0.000339\n",
            "KNN:   0.000009 0.000011\n",
            "DT:   0.000000 0.000008\n",
            "SVR:   0.003881 0.003832\n",
            "MLP:   0.000008 0.000006\n",
            "ABR:   0.000718 0.000731\n",
            "GBR:   0.000015 0.000017\n",
            "RFR:   0.000000 0.000001\n",
            "ETR:   0.000000 0.000000\n"
          ]
        },
        {
          "output_type": "display_data",
          "data": {
            "text/plain": [
              "<Figure size 1080x576 with 1 Axes>"
            ],
            "image/png": "[encoded data removed]"
          },
          "metadata": {
            "needs_background": "light"
          }
        }
      ]
    },
    {
      "cell_type": "markdown",
      "source": [
        "**Improving MLP using GridSearchCV**"
      ],
      "metadata": {
        "id": "URfqMEvkJ4no"
      }
    },
    {
      "cell_type": "code",
      "source": [
        "param_grid={'hidden_layer_sizes': [(20,), (50,), (20,20), (20, 30, 20)]}\n",
        "kfold = KFold(n_splits=num_folds)\n",
        "grid = GridSearchCV(estimator=MLPRegressor(), param_grid=param_grid, scoring=scoring, cv=kfold)\n",
        "mlp = grid.fit(X_train, Y_train)\n",
        "print(\"Best: %f using %s\" % (mlp.best_score_, mlp.best_params_))\n",
        "print()\n",
        "#improved MLP\n",
        "from sklearn.metrics import accuracy_score, classification_report, confusion_matrix\n",
        "predictions = mlp.predict(X_test)\n",
        "print(mean_squared_error(Y_test, predictions))"
      ],
      "metadata": {
        "colab": {
          "base_uri": "https://localhost:8080/"
        },
        "id": "f4w-qhH5J8pP",
        "outputId": "b5f5aec2-97bb-41db-b510-9762f92b1ceb"
      },
      "execution_count": 16,
      "outputs": [
        {
          "output_type": "stream",
          "name": "stdout",
          "text": [
            "Best: -0.000026 using {'hidden_layer_sizes': (20, 30, 20)}\n",
            "\n",
            "1.37442628046282e-05\n"
          ]
        }
      ]
    }
  ]
}