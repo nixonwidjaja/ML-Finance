{
  "nbformat": 4,
  "nbformat_minor": 0,
  "metadata": {
    "colab": {
      "name": "Derivative_Pricing.ipynb",
      "provenance": [],
      "collapsed_sections": []
    },
    "kernelspec": {
      "name": "python3",
      "display_name": "Python 3"
    },
    "language_info": {
      "name": "python"
    }
  },
  "cells": [
    {
      "cell_type": "markdown",
      "source": [
        "**Import Libraries**"
      ],
      "metadata": {
        "id": "MRWDeqvO3dpW"
      }
    },
    {
      "cell_type": "code",
      "execution_count": 1,
      "metadata": {
        "id": "fukrk-lk19Yr"
      },
      "outputs": [],
      "source": [
        "#Normal distribution functions\n",
        "from scipy.stats import norm\n",
        "\n",
        "# Load libraries\n",
        "import numpy as np\n",
        "import pandas as pd\n",
        "import pandas_datareader.data as web\n",
        "from matplotlib import pyplot\n",
        "from pandas.plotting import scatter_matrix\n",
        "import seaborn as sns\n",
        "from sklearn.preprocessing import StandardScaler\n",
        "\n",
        "from sklearn.model_selection import train_test_split\n",
        "from sklearn.model_selection import KFold\n",
        "from sklearn.model_selection import cross_val_score\n",
        "from sklearn.model_selection import GridSearchCV\n",
        "\n",
        "from sklearn.linear_model import LinearRegression\n",
        "from sklearn.linear_model import Lasso\n",
        "from sklearn.linear_model import ElasticNet\n",
        "from sklearn.tree import DecisionTreeRegressor\n",
        "from sklearn.neighbors import KNeighborsRegressor\n",
        "from sklearn.svm import SVR\n",
        "from sklearn.ensemble import RandomForestRegressor\n",
        "from sklearn.ensemble import GradientBoostingRegressor\n",
        "from sklearn.ensemble import ExtraTreesRegressor\n",
        "from sklearn.ensemble import AdaBoostRegressor\n",
        "from sklearn.neural_network import MLPRegressor\n",
        "\n",
        "# Error Metrics\n",
        "from sklearn.metrics import mean_squared_error\n",
        "\n",
        "#Disable the warnings\n",
        "import warnings\n",
        "warnings.filterwarnings('ignore')"
      ]
    },
    {
      "cell_type": "markdown",
      "source": [
        "**Black Scholes Formula**"
      ],
      "metadata": {
        "id": "Ee1QH_QE3c_J"
      }
    },
    {
      "cell_type": "code",
      "source": [
        "true_alpha = 0.2\n",
        "true_beta = 0.2\n",
        "true_sigma0 = 0.3\n",
        "interest = 0.1\n",
        "\n",
        "def vol(moneyness, time):\n",
        "    return true_sigma0 + true_alpha * time + true_beta * np.square(moneyness - 1)\n",
        "\n",
        "def call_option_price(moneyness, time, option_vol):\n",
        "    d1=(np.log(1/moneyness)+(interest + np.square(option_vol))*time)/(option_vol*np.sqrt(time))\n",
        "    d2=(np.log(1/moneyness)+(interest - np.square(option_vol))*time)/(option_vol*np.sqrt(time))\n",
        "    N_d1 = norm.cdf(d1)\n",
        "    N_d2 = norm.cdf(d2)\n",
        "    \n",
        "    return N_d1 - moneyness * np.exp(- interest * time) * N_d2"
      ],
      "metadata": {
        "id": "h9QpZDsa3mwm"
      },
      "execution_count": 2,
      "outputs": []
    },
    {
      "cell_type": "markdown",
      "source": [
        "**Generating Data**"
      ],
      "metadata": {
        "id": "GQnBSyv94n6x"
      }
    },
    {
      "cell_type": "code",
      "source": [
        "N = 10000\n",
        "\n",
        "moneys = 1+0.25*np.random.randn(N)\n",
        "times = np.random.random(N)\n",
        "volatility = np.array([vol(k,t) for k,t in zip(moneys, times)])\n",
        "prices = np.array([call_option_price(k,t,sig) for k,t,sig in zip(moneys, times, volatility)])\n",
        "print('moneys', moneys)\n",
        "print('times', times)\n",
        "print('volatility', volatility)\n",
        "print('prices', prices)"
      ],
      "metadata": {
        "colab": {
          "base_uri": "https://localhost:8080/"
        },
        "id": "xXcHFEd74o2u",
        "outputId": "1b82816c-7beb-4962-e20c-954367ea1c15"
      },
      "execution_count": 3,
      "outputs": [
        {
          "output_type": "stream",
          "name": "stdout",
          "text": [
            "moneys [0.86177731 0.79834377 0.99026323 ... 0.81205239 0.5597212  1.18358148]\n",
            "times [0.72285257 0.6294755  0.20496783 ... 0.68416636 0.55693474 0.25286339]\n",
            "volatility [0.44839162 0.43402815 0.34101253 ... 0.44389813 0.45015603 0.35731311]\n",
            "prices [0.36779412 0.36487894 0.13578726 ... 0.37558188 0.48930467 0.07881561]\n"
          ]
        }
      ]
    },
    {
      "cell_type": "markdown",
      "source": [
        "**Visualize**"
      ],
      "metadata": {
        "id": "9gPpQpMS8Tj2"
      }
    },
    {
      "cell_type": "code",
      "source": [
        "Y = prices\n",
        "X = np.concatenate([moneys.reshape(-1,1), times.reshape(-1,1), volatility.reshape(-1,1)], axis=1)\n",
        "\n",
        "dataset = pd.DataFrame(np.concatenate([Y.reshape(-1,1), X], axis=1),\n",
        "                       columns=['Price', 'Moneyness', 'Time', 'Volatility'])\n",
        "print(X)\n",
        "print()\n",
        "print(Y)\n",
        "print()\n",
        "print(dataset.head())\n",
        "dataset.hist(bins=50, sharex=False, sharey=False, xlabelsize=1, ylabelsize=1, figsize=(12,12))\n",
        "pyplot.show()"
      ],
      "metadata": {
        "colab": {
          "base_uri": "https://localhost:8080/",
          "height": 993
        },
        "id": "FQxfDe2h8VHQ",
        "outputId": "b50d6bd8-48dc-47a7-95ae-981134e0906a"
      },
      "execution_count": 4,
      "outputs": [
        {
          "output_type": "stream",
          "name": "stdout",
          "text": [
            "[[0.86177731 0.72285257 0.44839162]\n",
            " [0.79834377 0.6294755  0.43402815]\n",
            " [0.99026323 0.20496783 0.34101253]\n",
            " ...\n",
            " [0.81205239 0.68416636 0.44389813]\n",
            " [0.5597212  0.55693474 0.45015603]\n",
            " [1.18358148 0.25286339 0.35731311]]\n",
            "\n",
            "[0.36779412 0.36487894 0.13578726 ... 0.37558188 0.48930467 0.07881561]\n",
            "\n",
            "      Price  Moneyness      Time  Volatility\n",
            "0  0.367794   0.861777  0.722853    0.448392\n",
            "1  0.364879   0.798344  0.629476    0.434028\n",
            "2  0.135787   0.990263  0.204968    0.341013\n",
            "3  0.161898   1.212549  0.482292    0.405494\n",
            "4  0.023642   1.124874  0.080666    0.319252\n"
          ]
        },
        {
          "output_type": "display_data",
          "data": {
            "text/plain": [
              "<Figure size 864x864 with 4 Axes>"
            ],
            "image/png": "[encoded data removed]"
          },
          "metadata": {
            "needs_background": "light"
          }
        }
      ]
    },
    {
      "cell_type": "markdown",
      "source": [
        "**Train Test Split**"
      ],
      "metadata": {
        "id": "45YTe4VZ_klo"
      }
    },
    {
      "cell_type": "code",
      "source": [
        "#train-test = 80-20\n",
        "validation_size = 0.2\n",
        "train_size = int(len(X) * (1-validation_size))\n",
        "print(train_size)\n",
        "X_train, X_test = X[0:train_size], X[train_size:len(X)]\n",
        "Y_train, Y_test = Y[0:train_size], Y[train_size:len(X)]"
      ],
      "metadata": {
        "colab": {
          "base_uri": "https://localhost:8080/"
        },
        "id": "mT0HISuo_l7-",
        "outputId": "18dd9660-ab85-4d35-cba1-2e3510660a37"
      },
      "execution_count": 5,
      "outputs": [
        {
          "output_type": "stream",
          "name": "stdout",
          "text": [
            "8000\n"
          ]
        }
      ]
    },
    {
      "cell_type": "markdown",
      "source": [
        "**Models and K-fold Analysis**"
      ],
      "metadata": {
        "id": "RzzOfEr7Audo"
      }
    },
    {
      "cell_type": "code",
      "source": [
        "models = []\n",
        "\n",
        "#Linear Models and Regression Trees\n",
        "models.append(('LR', LinearRegression()))\n",
        "models.append(('LASSO', Lasso()))\n",
        "models.append(('EN', ElasticNet()))\n",
        "models.append(('KNN', KNeighborsRegressor()))\n",
        "models.append(('DT', DecisionTreeRegressor()))\n",
        "models.append(('SVR', SVR()))\n",
        "\n",
        "#Neural Network Predictor (Multi Layer Perceptron)\n",
        "models.append(('MLP', MLPRegressor()))\n",
        "\n",
        "# Boosting methods\n",
        "models.append(('ABR', AdaBoostRegressor()))\n",
        "models.append(('GBR', GradientBoostingRegressor()))\n",
        "# Bagging methods\n",
        "models.append(('RFR', RandomForestRegressor()))\n",
        "models.append(('ETR', ExtraTreesRegressor()))\n",
        "\n",
        "num_folds = 10\n",
        "# scikit is moving away from mean_squared_error. \n",
        "# In order to avoid confusion, and to allow comparison with other models, we invert the final scores\n",
        "scoring = 'neg_mean_squared_error' \n",
        "names = []\n",
        "kfold_results = []\n",
        "test_results = []\n",
        "train_results = []\n",
        "for name, model in models:\n",
        "    names.append(name)\n",
        "    \n",
        "    ## K Fold analysis:\n",
        "    \n",
        "    kfold = KFold(n_splits=num_folds)\n",
        "    \n",
        "    #converted mean square error to positive. The lower the beter\n",
        "    cv_results = -1* cross_val_score(model, X_train, Y_train, cv=kfold, scoring=scoring)\n",
        "    kfold_results.append(cv_results)\n",
        "    \n",
        "\n",
        "    # Full Training period\n",
        "    res = model.fit(X_train, Y_train)\n",
        "    train_result = mean_squared_error(res.predict(X_train), Y_train)\n",
        "    train_results.append(train_result)\n",
        "    \n",
        "    # Test results\n",
        "    test_result = mean_squared_error(res.predict(X_test), Y_test)\n",
        "    test_results.append(test_result)\n",
        "    \n",
        "    msg = \"%s: %f (%f) %f %f\" % (name, cv_results.mean(), cv_results.std(), train_result, test_result)\n",
        "    print(msg)"
      ],
      "metadata": {
        "colab": {
          "base_uri": "https://localhost:8080/"
        },
        "id": "1syKGb2wAvdP",
        "outputId": "0e6fa916-c957-485e-c7fe-d5eaf03f8685"
      },
      "execution_count": 6,
      "outputs": [
        {
          "output_type": "stream",
          "name": "stdout",
          "text": [
            "LR: 0.000523 (0.000054) 0.000522 0.000509\n",
            "LASSO: 0.020526 (0.001070) 0.020519 0.020713\n",
            "EN: 0.020526 (0.001070) 0.020519 0.020713\n",
            "KNN: 0.000017 (0.000008) 0.000010 0.000017\n",
            "DT: 0.000021 (0.000006) 0.000000 0.000018\n",
            "SVR: 0.002808 (0.000073) 0.002782 0.002760\n",
            "MLP: 0.000036 (0.000016) 0.000040 0.000037\n",
            "ABR: 0.001240 (0.000036) 0.001159 0.001186\n",
            "GBR: 0.000044 (0.000004) 0.000034 0.000043\n",
            "RFR: 0.000005 (0.000005) 0.000001 0.000003\n",
            "ETR: 0.000002 (0.000004) 0.000000 0.000002\n"
          ]
        }
      ]
    },
    {
      "cell_type": "markdown",
      "source": [
        "**Results**"
      ],
      "metadata": {
        "id": "mu3wgepDCq3s"
      }
    },
    {
      "cell_type": "code",
      "source": [
        "fig = pyplot.figure()\n",
        "fig.suptitle('Model Comparison: K-fold results')\n",
        "ax = fig.add_subplot(111)\n",
        "pyplot.boxplot(kfold_results)\n",
        "ax.set_xticklabels(names)\n",
        "fig.set_size_inches(15,8)\n",
        "pyplot.show()"
      ],
      "metadata": {
        "colab": {
          "base_uri": "https://localhost:8080/",
          "height": 540
        },
        "id": "UnYdZhljCsfv",
        "outputId": "ef10abf5-17be-4ff5-81dc-84b4837c0306"
      },
      "execution_count": 7,
      "outputs": [
        {
          "output_type": "display_data",
          "data": {
            "text/plain": [
              "<Figure size 1080x576 with 1 Axes>"
            ],
            "image/png": "[encoded data removed]"
          },
          "metadata": {
            "needs_background": "light"
          }
        }
      ]
    },
    {
      "cell_type": "markdown",
      "source": [
        "**Remove LASSO and ElasticNet**"
      ],
      "metadata": {
        "id": "3cidmRUADxXk"
      }
    },
    {
      "cell_type": "code",
      "source": [
        "# compare algorithms\n",
        "fig = pyplot.figure()\n",
        "train = train_results[0:1] + train_results[3:]\n",
        "test = test_results[0:1] + test_results[3:]\n",
        "if 'LASSO' in names:\n",
        "  names.remove('LASSO')\n",
        "if 'EN' in names:\n",
        "  names.remove('EN')\n",
        "\n",
        "ind = np.arange(len(names))  # the x locations for the groups\n",
        "width = 0.35  # the width of the bars\n",
        "fig.suptitle('Model Comparison')\n",
        "ax = fig.add_subplot(111)\n",
        "pyplot.bar(ind - width/2, train,  width=width, label='Train Error')\n",
        "pyplot.bar(ind + width/2, test, width=width, label='Test Error')\n",
        "fig.set_size_inches(15,8)\n",
        "pyplot.legend()\n",
        "ax.set_xticks(ind)\n",
        "ax.set_xticklabels(names)\n",
        "for i in range(len(train)):\n",
        "  p = \"%s: %10f %f\" % (names[i], train[i], test[i])\n",
        "  print(p)\n",
        "pyplot.show()"
      ],
      "metadata": {
        "colab": {
          "base_uri": "https://localhost:8080/",
          "height": 701
        },
        "id": "4B0fhrh3Dxz6",
        "outputId": "8820b984-27c0-4d18-a139-7789237805b9"
      },
      "execution_count": 8,
      "outputs": [
        {
          "output_type": "stream",
          "name": "stdout",
          "text": [
            "LR:   0.000522 0.000509\n",
            "KNN:   0.000010 0.000017\n",
            "DT:   0.000000 0.000018\n",
            "SVR:   0.002782 0.002760\n",
            "MLP:   0.000040 0.000037\n",
            "ABR:   0.001159 0.001186\n",
            "GBR:   0.000034 0.000043\n",
            "RFR:   0.000001 0.000003\n",
            "ETR:   0.000000 0.000002\n"
          ]
        },
        {
          "output_type": "display_data",
          "data": {
            "text/plain": [
              "<Figure size 1080x576 with 1 Axes>"
            ],
            "image/png": "[encoded data removed]"
          },
          "metadata": {
            "needs_background": "light"
          }
        }
      ]
    },
    {
      "cell_type": "markdown",
      "source": [
        "**Improving MLP using GridSearchCV**"
      ],
      "metadata": {
        "id": "URfqMEvkJ4no"
      }
    },
    {
      "cell_type": "code",
      "source": [
        "param_grid={'hidden_layer_sizes': [(20,), (50,), (20,20), (20, 30, 20)]}\n",
        "kfold = KFold(n_splits=num_folds)\n",
        "grid = GridSearchCV(estimator=MLPRegressor(), param_grid=param_grid, scoring=scoring, cv=kfold)\n",
        "mlp = grid.fit(X_train, Y_train)\n",
        "print(\"Best: %f using %s\" % (mlp.best_score_, mlp.best_params_))\n",
        "print()\n",
        "#improved MLP\n",
        "predictions = mlp.predict(X_test)\n",
        "print(mean_squared_error(Y_test, predictions))"
      ],
      "metadata": {
        "colab": {
          "base_uri": "https://localhost:8080/"
        },
        "id": "f4w-qhH5J8pP",
        "outputId": "5a2cac70-a84a-401b-a3ba-3ad13255b1c5"
      },
      "execution_count": 9,
      "outputs": [
        {
          "output_type": "stream",
          "name": "stdout",
          "text": [
            "Best: -0.000033 using {'hidden_layer_sizes': (20, 30, 20)}\n",
            "\n",
            "3.0508182575486105e-05\n"
          ]
        }
      ]
    },
    {
      "cell_type": "markdown",
      "source": [
        "**Additional analysis: Removing volatility data**"
      ],
      "metadata": {
        "id": "0AsFPZjEkx09"
      }
    },
    {
      "cell_type": "code",
      "source": [
        "X = np.concatenate([moneys.reshape(-1,1), times.reshape(-1,1)], axis=1)\n",
        "validation_size = 0.2\n",
        "\n",
        "train_size = int(len(X) * (1-validation_size))\n",
        "X_train, X_test = X[0:train_size], X[train_size:len(X)]\n",
        "Y_train, Y_test = Y[0:train_size], Y[train_size:len(X)]\n",
        "\n",
        "models = []\n",
        "#Linear Models and Regression Trees\n",
        "models.append(('LR', LinearRegression()))\n",
        "models.append(('KNN', KNeighborsRegressor()))\n",
        "models.append(('DT', DecisionTreeRegressor()))\n",
        "models.append(('SVR', SVR()))\n",
        "\n",
        "#Neural Network Predictor (Multi Layer Perceptron)\n",
        "models.append(('MLP', MLPRegressor()))\n",
        "\n",
        "# Boosting methods\n",
        "models.append(('ABR', AdaBoostRegressor()))\n",
        "models.append(('GBR', GradientBoostingRegressor()))\n",
        "# Bagging methods\n",
        "models.append(('RFR', RandomForestRegressor()))\n",
        "models.append(('ETR', ExtraTreesRegressor()))\n",
        "\n",
        "\n",
        "num_folds = 10\n",
        "# scikit is moving away from mean_squared_error. \n",
        "# In order to avoid confusion, and to allow comparison with other models, we invert the final scores\n",
        "scoring = 'neg_mean_squared_error' \n",
        "\n",
        "\n",
        "names = []\n",
        "kfold_results = []\n",
        "test_results = []\n",
        "train_results = []\n",
        "for name, model in models:\n",
        "    names.append(name)\n",
        "    \n",
        "    ## K Fold analysis:\n",
        "    \n",
        "    kfold = KFold(n_splits=num_folds)\n",
        "    #converted mean square error to positive. The lower the better\n",
        "    cv_results = -1* cross_val_score(model, X_train, Y_train, cv=kfold, scoring=scoring)\n",
        "    kfold_results.append(cv_results)\n",
        "    \n",
        "\n",
        "    # Full Training period\n",
        "    res = model.fit(X_train, Y_train)\n",
        "    train_result = mean_squared_error(res.predict(X_train), Y_train)\n",
        "    train_results.append(train_result)\n",
        "    \n",
        "    # Test results\n",
        "    test_result = mean_squared_error(res.predict(X_test), Y_test)\n",
        "    test_results.append(test_result)\n",
        "    \n",
        "    msg = \"%s: %f (%f) %f %f\" % (name, cv_results.mean(), cv_results.std(), train_result, test_result)\n",
        "    print(msg)"
      ],
      "metadata": {
        "colab": {
          "base_uri": "https://localhost:8080/"
        },
        "id": "LT3WQSKZk2IW",
        "outputId": "b5c61ffd-d41d-4c33-f048-5edd9c73a214"
      },
      "execution_count": 10,
      "outputs": [
        {
          "output_type": "stream",
          "name": "stdout",
          "text": [
            "LR: 0.001592 (0.000158) 0.001589 0.001570\n",
            "KNN: 0.000017 (0.000008) 0.000010 0.000017\n",
            "DT: 0.000020 (0.000007) 0.000000 0.000026\n",
            "SVR: 0.002966 (0.000081) 0.002953 0.002946\n",
            "MLP: 0.000097 (0.000079) 0.000047 0.000044\n",
            "ABR: 0.001243 (0.000036) 0.001206 0.001238\n",
            "GBR: 0.000033 (0.000004) 0.000026 0.000033\n",
            "RFR: 0.000005 (0.000005) 0.000001 0.000003\n",
            "ETR: 0.000003 (0.000005) 0.000000 0.000003\n"
          ]
        }
      ]
    },
    {
      "cell_type": "code",
      "source": [
        "# compare algorithms\n",
        "fig = pyplot.figure()\n",
        "\n",
        "ind = np.arange(len(names))  # the x locations for the groups\n",
        "width = 0.35  # the width of the bars\n",
        "\n",
        "fig.suptitle('Algorithm Comparison')\n",
        "ax = fig.add_subplot(111)\n",
        "pyplot.bar(ind - width/2, train_results,  width=width, label='Train Error')\n",
        "pyplot.bar(ind + width/2, test_results, width=width, label='Test Error')\n",
        "fig.set_size_inches(15,8)\n",
        "pyplot.legend()\n",
        "ax.set_xticks(ind)\n",
        "ax.set_xticklabels(names)\n",
        "pyplot.show()"
      ],
      "metadata": {
        "colab": {
          "base_uri": "https://localhost:8080/",
          "height": 540
        },
        "id": "NsNP8_PbnC44",
        "outputId": "55e640d7-21f6-43d9-87c5-06074e58c91d"
      },
      "execution_count": 11,
      "outputs": [
        {
          "output_type": "display_data",
          "data": {
            "text/plain": [
              "<Figure size 1080x576 with 1 Axes>"
            ],
            "image/png": "[encoded data removed]"
          },
          "metadata": {
            "needs_background": "light"
          }
        }
      ]
    }
  ]
}